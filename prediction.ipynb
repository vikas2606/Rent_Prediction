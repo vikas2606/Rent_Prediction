{
 "cells": [
  {
   "cell_type": "code",
   "execution_count": 43,
   "metadata": {},
   "outputs": [],
   "source": [
    "import pandas as pd\n",
    "from sklearn.linear_model import LinearRegression\n",
    "from sklearn.metrics import mean_squared_error\n",
    "from sklearn.preprocessing import LabelEncoder,PolynomialFeatures\n",
    "from sklearn.linear_model import Ridge\n",
    "import matplotlib.pyplot as plt"
   ]
  },
  {
   "cell_type": "code",
   "execution_count": 44,
   "metadata": {},
   "outputs": [],
   "source": [
    "file_path='MLSDataBuiltAfter1995/11122000115150.csv'\n",
    "df=pd.read_csv(file_path)"
   ]
  },
  {
   "cell_type": "code",
   "execution_count": null,
   "metadata": {},
   "outputs": [],
   "source": []
  },
  {
   "cell_type": "code",
   "execution_count": 45,
   "metadata": {},
   "outputs": [],
   "source": [
    "# Convert 'CloseDate' to datetime format\n",
    "df['CloseDate'] = pd.to_datetime(df['CloseDate'])\n",
    "\n",
    "# Extract the year from 'CloseDate'\n",
    "df['Year'] = df['CloseDate'].dt.year\n",
    "\n",
    "df.fillna(0, inplace=True)\n",
    "df = df[(df['YearBuilt'] >= 1998) & (df['YearBuilt'] <= 2024) & (df['YearBuilt'] != 9999)]"
   ]
  },
  {
   "cell_type": "code",
   "execution_count": 46,
   "metadata": {},
   "outputs": [],
   "source": [
    "# Step 4: Create features and target variable\n",
    "# df = pd.get_dummies(df, columns=['ElementarySchoolName', 'HighSchoolName', 'PostalCode'])\n",
    "\n",
    "\n",
    "features = ['CumulativeDaysOnMarket', 'LivingArea','LotSizeArea','LotSizeSquareFeet','RATIO_ClosePrice_By_LivingArea','YearBuilt']\n",
    "\n",
    "\n",
    "target = 'ClosePrice'\n",
    "\n",
    "# Extract relevant columns from the DataFrame\n",
    "selected_columns = features + [target]\n",
    "selected_data = df[selected_columns]"
   ]
  },
  {
   "cell_type": "code",
   "execution_count": 47,
   "metadata": {},
   "outputs": [],
   "source": [
    "# Convert categorical features using OneHotEncoder\n",
    "from sklearn.model_selection import train_test_split\n",
    "\n",
    "X = selected_data[features]\n",
    "y = selected_data[target]\n",
    "\n",
    "poly = PolynomialFeatures(degree=2, include_bias=False)\n",
    "X_poly = poly.fit_transform(X)\n",
    "\n",
    "# Split the data into training and testing sets with a 70-30 ratio\n",
    "X_train_poly, X_test_poly, y_train, y_test = train_test_split(X_poly, y, test_size=0.3, random_state=42)\n",
    "   \n"
   ]
  },
  {
   "cell_type": "code",
   "execution_count": 48,
   "metadata": {},
   "outputs": [
    {
     "name": "stdout",
     "output_type": "stream",
     "text": [
      "Mean Squared Error with Polynomial Features: 491847.67677694594\n",
      "R-squared with Polynomial Features: 0.9955268714876925\n"
     ]
    },
    {
     "data": {
      "image/png": "[encoded data removed]",
      "text/plain": [
       "<Figure size 432x288 with 1 Axes>"
      ]
     },
     "metadata": {
      "needs_background": "light"
     },
     "output_type": "display_data"
    }
   ],
   "source": [
    "model = LinearRegression()\n",
    "model.fit(X_train_poly, y_train)\n",
    "\n",
    "y_pred_poly = model.predict(X_test_poly)\n",
    "mse_poly = mean_squared_error(y_test, y_pred_poly)\n",
    "print(f'Mean Squared Error with Polynomial Features: {mse_poly}')\n",
    "r_squared_poly = model.score(X_test_poly, y_test)\n",
    "print(f'R-squared with Polynomial Features: {r_squared_poly}')\n",
    "\n",
    "plt.scatter(y_test, y_pred_poly)\n",
    "plt.xlabel('True Values')\n",
    "plt.ylabel('Predictions with Polynomial Features')\n",
    "plt.show()\n",
    "\n"
   ]
  }
 ],
 "metadata": {
  "kernelspec": {
   "display_name": "Python 3",
   "language": "python",
   "name": "python3"
  },
  "language_info": {
   "codemirror_mode": {
    "name": "ipython",
    "version": 3
   },
   "file_extension": ".py",
   "mimetype": "text/x-python",
   "name": "python",
   "nbconvert_exporter": "python",
   "pygments_lexer": "ipython3",
   "version": "3.10.12"
  }
 },
 "nbformat": 4,
 "nbformat_minor": 2
}
